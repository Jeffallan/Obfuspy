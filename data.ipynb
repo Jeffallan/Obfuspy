{
 "cells": [
  {
   "cell_type": "code",
   "execution_count": 20,
   "metadata": {},
   "outputs": [
    {
     "data": {
      "text/html": [
       "<div>\n",
       "<style scoped>\n",
       "    .dataframe tbody tr th:only-of-type {\n",
       "        vertical-align: middle;\n",
       "    }\n",
       "\n",
       "    .dataframe tbody tr th {\n",
       "        vertical-align: top;\n",
       "    }\n",
       "\n",
       "    .dataframe thead th {\n",
       "        text-align: right;\n",
       "    }\n",
       "</style>\n",
       "<table border=\"1\" class=\"dataframe\">\n",
       "  <thead>\n",
       "    <tr style=\"text-align: right;\">\n",
       "      <th></th>\n",
       "      <th>id</th>\n",
       "      <th>name</th>\n",
       "      <th>llvm_blocks</th>\n",
       "      <th>llvm_instructions</th>\n",
       "      <th>average_instructions</th>\n",
       "      <th>entropy</th>\n",
       "      <th>raw_hex</th>\n",
       "      <th>size</th>\n",
       "    </tr>\n",
       "  </thead>\n",
       "  <tbody>\n",
       "    <tr>\n",
       "      <th>0</th>\n",
       "      <td>1</td>\n",
       "      <td>fdwatch_dot_o_268_727_2.71</td>\n",
       "      <td>268</td>\n",
       "      <td>727</td>\n",
       "      <td>2.71</td>\n",
       "      <td>3.509728</td>\n",
       "      <td>./processed_files/fdwatch_dot_o_268_727_2.71.hex</td>\n",
       "      <td>6334.0</td>\n",
       "    </tr>\n",
       "  </tbody>\n",
       "</table>\n",
       "</div>"
      ],
      "text/plain": [
       "   id                        name  llvm_blocks  llvm_instructions  \\\n",
       "0   1  fdwatch_dot_o_268_727_2.71          268                727   \n",
       "\n",
       "   average_instructions   entropy  \\\n",
       "0                  2.71  3.509728   \n",
       "\n",
       "                                            raw_hex    size  \n",
       "0  ./processed_files/fdwatch_dot_o_268_727_2.71.hex  6334.0  "
      ]
     },
     "execution_count": 20,
     "metadata": {},
     "output_type": "execute_result"
    }
   ],
   "source": [
    "import pandas as pd\n",
    "import sqlite3\n",
    "\n",
    "\n",
    "norm_db=sqlite3.connect(\"fdwatch.o.db\")\n",
    "obf_db=sqlite3.connect(\"fdwatch_dot_o_268_727_2.71.db\")\n",
    "\n",
    "#Program Tables\n",
    "norm_program=pd.read_sql_query(\"SELECT * FROM PROGRAM\",norm_db)\n",
    "obf_program=pd.read_sql_query(\"SELECT * FROM PROGRAM\", obf_db)\n",
    "\n",
    "#Function Tables\n",
    "norm_func=pd.read_sql_query(\"SELECT * FROM FUNCTION\",norm_db)\n",
    "obf_func=pd.read_sql_query(\"SELECT * FROM FUNCTION\", obf_db)\n",
    "\n",
    "#Block Tables\n",
    "norm_blk=pd.read_sql_query(\"SELECT * FROM BLOCK\",norm_db)\n",
    "obf_blk=pd.read_sql_query(\"SELECT * FROM BLOCK\", obf_db)\n",
    "\n",
    "#Instruction Tables\n",
    "norm_inst=pd.read_sql_query(\"SELECT * FROM INSTRUCTION\",norm_db)\n",
    "obf_inst=pd.read_sql_query(\"SELECT * FROM INSTRUCTION\", obf_db)\n",
    "\n",
    "obf_program\n"
   ]
  },
  {
   "cell_type": "code",
   "execution_count": 15,
   "metadata": {},
   "outputs": [
    {
     "data": {
      "text/html": [
       "<div>\n",
       "<style scoped>\n",
       "    .dataframe tbody tr th:only-of-type {\n",
       "        vertical-align: middle;\n",
       "    }\n",
       "\n",
       "    .dataframe tbody tr th {\n",
       "        vertical-align: top;\n",
       "    }\n",
       "\n",
       "    .dataframe thead th {\n",
       "        text-align: right;\n",
       "    }\n",
       "</style>\n",
       "<table border=\"1\" class=\"dataframe\">\n",
       "  <thead>\n",
       "    <tr style=\"text-align: right;\">\n",
       "      <th></th>\n",
       "      <th>name</th>\n",
       "      <th>entropy</th>\n",
       "      <th>size</th>\n",
       "    </tr>\n",
       "  </thead>\n",
       "  <tbody>\n",
       "    <tr>\n",
       "      <th>0</th>\n",
       "      <td>fdwatch.o</td>\n",
       "      <td>3.082849</td>\n",
       "      <td>3120.0</td>\n",
       "    </tr>\n",
       "    <tr>\n",
       "      <th>0</th>\n",
       "      <td>fdwatch_dot_o_268_727_2.71</td>\n",
       "      <td>3.509728</td>\n",
       "      <td>6334.0</td>\n",
       "    </tr>\n",
       "  </tbody>\n",
       "</table>\n",
       "</div>"
      ],
      "text/plain": [
       "                         name   entropy    size\n",
       "0                   fdwatch.o  3.082849  3120.0\n",
       "0  fdwatch_dot_o_268_727_2.71  3.509728  6334.0"
      ]
     },
     "execution_count": 15,
     "metadata": {},
     "output_type": "execute_result"
    }
   ],
   "source": [
    "prog_cmp = norm_program.append(obf_program)\n",
    "prog_cmp[[\"name\", \"entropy\", \"size\"]]"
   ]
  },
  {
   "cell_type": "code",
   "execution_count": 28,
   "metadata": {},
   "outputs": [
    {
     "name": "stdout",
     "output_type": "stream",
     "text": [
      "Obfuscated LLVM Instructions: 727\n",
      "Obfuscated x86 Instruction Count: 1271\n",
      "Normal x86 Instruction Count: 509\n"
     ]
    }
   ],
   "source": [
    "print(f\"Obfuscated LLVM Instructions: 727\\n\\\n",
    "Obfuscated x86 Instruction Count: {obf_func.instruction_count.sum()}\\n\\\n",
    "Normal x86 Instruction Count: {norm_func.instruction_count.sum()}\")\n"
   ]
  },
  {
   "cell_type": "code",
   "execution_count": 39,
   "metadata": {},
   "outputs": [
    {
     "name": "stdout",
     "output_type": "stream",
     "text": [
      "LLVM Average: 2.71\n",
      "Obfuscated Average: 4.279461279461279\n",
      "Normal Average: 5.988235294117647\n"
     ]
    }
   ],
   "source": [
    "#Average instruction count\n",
    "print(\"LLVM Average: 2.71\")\n",
    "print(f\"Obfuscated Average: {obf_func.instruction_count.sum() / obf_func.blocks.sum()}\")\n",
    "print(f\"Normal Average: {norm_func.instruction_count.sum() / norm_func.blocks.sum()}\")"
   ]
  }
 ],
 "metadata": {
  "hide_input": false,
  "kernelspec": {
   "display_name": "Python 3",
   "language": "python",
   "name": "python3"
  },
  "language_info": {
   "codemirror_mode": {
    "name": "ipython",
    "version": 3
   },
   "file_extension": ".py",
   "mimetype": "text/x-python",
   "name": "python",
   "nbconvert_exporter": "python",
   "pygments_lexer": "ipython3",
   "version": "3.8.5"
  }
 },
 "nbformat": 4,
 "nbformat_minor": 4
}
